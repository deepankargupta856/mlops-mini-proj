{
 "cells": [
  {
   "cell_type": "code",
   "execution_count": 1,
   "id": "c4888973",
   "metadata": {},
   "outputs": [],
   "source": [
    "import pandas as pd\n",
    "import numpy as np"
   ]
  },
  {
   "cell_type": "code",
   "execution_count": 2,
   "id": "b72e4fe2",
   "metadata": {},
   "outputs": [
    {
     "name": "stdout",
     "output_type": "stream",
     "text": [
      "Requirement already satisfied: dagshub in c:\\users\\deepa\\anaconda3\\lib\\site-packages (0.6.3)\n",
      "Requirement already satisfied: PyYAML>=5 in c:\\users\\deepa\\anaconda3\\lib\\site-packages (from dagshub) (6.0.2)\n",
      "Requirement already satisfied: appdirs>=1.4.4 in c:\\users\\deepa\\anaconda3\\lib\\site-packages (from dagshub) (1.4.4)\n",
      "Requirement already satisfied: click>=8.0.4 in c:\\users\\deepa\\anaconda3\\lib\\site-packages (from dagshub) (8.1.7)\n",
      "Requirement already satisfied: httpx>=0.23.0 in c:\\users\\deepa\\anaconda3\\lib\\site-packages (from dagshub) (0.28.1)\n",
      "Requirement already satisfied: GitPython>=3.1.29 in c:\\users\\deepa\\anaconda3\\lib\\site-packages (from dagshub) (3.1.43)\n",
      "Requirement already satisfied: rich>=13.1.0 in c:\\users\\deepa\\anaconda3\\lib\\site-packages (from dagshub) (13.9.4)\n",
      "Requirement already satisfied: dacite~=1.6.0 in c:\\users\\deepa\\anaconda3\\lib\\site-packages (from dagshub) (1.6.0)\n",
      "Requirement already satisfied: tenacity>=8.2.2 in c:\\users\\deepa\\anaconda3\\lib\\site-packages (from dagshub) (9.0.0)\n",
      "Requirement already satisfied: gql[requests] in c:\\users\\deepa\\anaconda3\\lib\\site-packages (from dagshub) (4.0.0)\n",
      "Requirement already satisfied: dataclasses-json in c:\\users\\deepa\\anaconda3\\lib\\site-packages (from dagshub) (0.6.7)\n",
      "Requirement already satisfied: pandas in c:\\users\\deepa\\anaconda3\\lib\\site-packages (from dagshub) (2.2.3)\n",
      "Requirement already satisfied: treelib>=1.6.4 in c:\\users\\deepa\\anaconda3\\lib\\site-packages (from dagshub) (1.8.0)\n",
      "Requirement already satisfied: pathvalidate>=3.0.0 in c:\\users\\deepa\\anaconda3\\lib\\site-packages (from dagshub) (3.3.1)\n",
      "Requirement already satisfied: python-dateutil in c:\\users\\deepa\\anaconda3\\lib\\site-packages (from dagshub) (2.9.0.post0)\n",
      "Requirement already satisfied: boto3 in c:\\users\\deepa\\anaconda3\\lib\\site-packages (from dagshub) (1.40.56)\n",
      "Requirement already satisfied: semver in c:\\users\\deepa\\anaconda3\\lib\\site-packages (from dagshub) (3.0.2)\n",
      "Requirement already satisfied: dagshub-annotation-converter>=0.1.12 in c:\\users\\deepa\\anaconda3\\lib\\site-packages (from dagshub) (0.1.14)\n",
      "Requirement already satisfied: colorama in c:\\users\\deepa\\anaconda3\\lib\\site-packages (from click>=8.0.4->dagshub) (0.4.6)\n",
      "Requirement already satisfied: lxml in c:\\users\\deepa\\anaconda3\\lib\\site-packages (from dagshub-annotation-converter>=0.1.12->dagshub) (5.3.0)\n",
      "Requirement already satisfied: pillow in c:\\users\\deepa\\anaconda3\\lib\\site-packages (from dagshub-annotation-converter>=0.1.12->dagshub) (11.1.0)\n",
      "Requirement already satisfied: pydantic>=2.0.0 in c:\\users\\deepa\\anaconda3\\lib\\site-packages (from dagshub-annotation-converter>=0.1.12->dagshub) (2.12.3)\n",
      "Requirement already satisfied: typing-extensions in c:\\users\\deepa\\anaconda3\\lib\\site-packages (from dagshub-annotation-converter>=0.1.12->dagshub) (4.15.0)\n",
      "Requirement already satisfied: gitdb<5,>=4.0.1 in c:\\users\\deepa\\anaconda3\\lib\\site-packages (from GitPython>=3.1.29->dagshub) (4.0.7)\n",
      "Requirement already satisfied: anyio in c:\\users\\deepa\\anaconda3\\lib\\site-packages (from httpx>=0.23.0->dagshub) (4.11.0)\n",
      "Requirement already satisfied: certifi in c:\\users\\deepa\\anaconda3\\lib\\site-packages (from httpx>=0.23.0->dagshub) (2025.1.31)\n",
      "Requirement already satisfied: httpcore==1.* in c:\\users\\deepa\\anaconda3\\lib\\site-packages (from httpx>=0.23.0->dagshub) (1.0.2)\n",
      "Requirement already satisfied: idna in c:\\users\\deepa\\anaconda3\\lib\\site-packages (from httpx>=0.23.0->dagshub) (3.7)\n",
      "Requirement already satisfied: h11<0.15,>=0.13 in c:\\users\\deepa\\anaconda3\\lib\\site-packages (from httpcore==1.*->httpx>=0.23.0->dagshub) (0.14.0)\n",
      "Requirement already satisfied: markdown-it-py>=2.2.0 in c:\\users\\deepa\\anaconda3\\lib\\site-packages (from rich>=13.1.0->dagshub) (2.2.0)\n",
      "Requirement already satisfied: pygments<3.0.0,>=2.13.0 in c:\\users\\deepa\\anaconda3\\lib\\site-packages (from rich>=13.1.0->dagshub) (2.15.1)\n",
      "Requirement already satisfied: six>=1.13.0 in c:\\users\\deepa\\anaconda3\\lib\\site-packages (from treelib>=1.6.4->dagshub) (1.16.0)\n",
      "Requirement already satisfied: botocore<1.41.0,>=1.40.56 in c:\\users\\deepa\\anaconda3\\lib\\site-packages (from boto3->dagshub) (1.40.56)\n",
      "Requirement already satisfied: jmespath<2.0.0,>=0.7.1 in c:\\users\\deepa\\anaconda3\\lib\\site-packages (from boto3->dagshub) (1.0.1)\n",
      "Requirement already satisfied: s3transfer<0.15.0,>=0.14.0 in c:\\users\\deepa\\anaconda3\\lib\\site-packages (from boto3->dagshub) (0.14.0)\n",
      "Requirement already satisfied: marshmallow<4.0.0,>=3.18.0 in c:\\users\\deepa\\anaconda3\\lib\\site-packages (from dataclasses-json->dagshub) (3.26.1)\n",
      "Requirement already satisfied: typing-inspect<1,>=0.4.0 in c:\\users\\deepa\\anaconda3\\lib\\site-packages (from dataclasses-json->dagshub) (0.9.0)\n",
      "Requirement already satisfied: graphql-core<3.3,>=3.2 in c:\\users\\deepa\\anaconda3\\lib\\site-packages (from gql[requests]->dagshub) (3.2.6)\n",
      "Requirement already satisfied: yarl<2.0,>=1.6 in c:\\users\\deepa\\anaconda3\\lib\\site-packages (from gql[requests]->dagshub) (1.18.0)\n",
      "Requirement already satisfied: backoff<3.0,>=1.11.1 in c:\\users\\deepa\\anaconda3\\lib\\site-packages (from gql[requests]->dagshub) (2.2.1)\n",
      "Requirement already satisfied: requests<3,>=2.26 in c:\\users\\deepa\\anaconda3\\lib\\site-packages (from gql[requests]->dagshub) (2.32.3)\n",
      "Requirement already satisfied: requests_toolbelt<2,>=1.0.0 in c:\\users\\deepa\\anaconda3\\lib\\site-packages (from gql[requests]->dagshub) (1.0.0)\n",
      "Requirement already satisfied: numpy>=1.26.0 in c:\\users\\deepa\\anaconda3\\lib\\site-packages (from pandas->dagshub) (2.2.6)\n",
      "Requirement already satisfied: pytz>=2020.1 in c:\\users\\deepa\\anaconda3\\lib\\site-packages (from pandas->dagshub) (2024.1)\n",
      "Requirement already satisfied: tzdata>=2022.7 in c:\\users\\deepa\\anaconda3\\lib\\site-packages (from pandas->dagshub) (2025.2)\n",
      "Requirement already satisfied: sniffio>=1.1 in c:\\users\\deepa\\anaconda3\\lib\\site-packages (from anyio->httpx>=0.23.0->dagshub) (1.3.0)\n",
      "Requirement already satisfied: urllib3!=2.2.0,<3,>=1.25.4 in c:\\users\\deepa\\anaconda3\\lib\\site-packages (from botocore<1.41.0,>=1.40.56->boto3->dagshub) (2.3.0)\n",
      "Requirement already satisfied: smmap<5,>=3.0.1 in c:\\users\\deepa\\anaconda3\\lib\\site-packages (from gitdb<5,>=4.0.1->GitPython>=3.1.29->dagshub) (4.0.0)\n",
      "Requirement already satisfied: mdurl~=0.1 in c:\\users\\deepa\\anaconda3\\lib\\site-packages (from markdown-it-py>=2.2.0->rich>=13.1.0->dagshub) (0.1.0)\n",
      "Requirement already satisfied: packaging>=17.0 in c:\\users\\deepa\\anaconda3\\lib\\site-packages (from marshmallow<4.0.0,>=3.18.0->dataclasses-json->dagshub) (24.2)\n",
      "Requirement already satisfied: annotated-types>=0.6.0 in c:\\users\\deepa\\anaconda3\\lib\\site-packages (from pydantic>=2.0.0->dagshub-annotation-converter>=0.1.12->dagshub) (0.6.0)\n",
      "Requirement already satisfied: pydantic-core==2.41.4 in c:\\users\\deepa\\anaconda3\\lib\\site-packages (from pydantic>=2.0.0->dagshub-annotation-converter>=0.1.12->dagshub) (2.41.4)\n",
      "Requirement already satisfied: typing-inspection>=0.4.2 in c:\\users\\deepa\\anaconda3\\lib\\site-packages (from pydantic>=2.0.0->dagshub-annotation-converter>=0.1.12->dagshub) (0.4.2)\n",
      "Requirement already satisfied: charset-normalizer<4,>=2 in c:\\users\\deepa\\anaconda3\\lib\\site-packages (from requests<3,>=2.26->gql[requests]->dagshub) (3.3.2)\n",
      "Requirement already satisfied: mypy-extensions>=0.3.0 in c:\\users\\deepa\\anaconda3\\lib\\site-packages (from typing-inspect<1,>=0.4.0->dataclasses-json->dagshub) (1.0.0)\n",
      "Requirement already satisfied: multidict>=4.0 in c:\\users\\deepa\\anaconda3\\lib\\site-packages (from yarl<2.0,>=1.6->gql[requests]->dagshub) (6.1.0)\n",
      "Requirement already satisfied: propcache>=0.2.0 in c:\\users\\deepa\\anaconda3\\lib\\site-packages (from yarl<2.0,>=1.6->gql[requests]->dagshub) (0.2.0)\n"
     ]
    }
   ],
   "source": [
    "!pip install dagshub"
   ]
  },
  {
   "cell_type": "code",
   "execution_count": 3,
   "id": "bbca2438",
   "metadata": {},
   "outputs": [
    {
     "name": "stdout",
     "output_type": "stream",
     "text": [
      "Requirement already satisfied: mlflow in c:\\users\\deepa\\anaconda3\\lib\\site-packages (3.5.0)\n",
      "Requirement already satisfied: mlflow-skinny==3.5.0 in c:\\users\\deepa\\anaconda3\\lib\\site-packages (from mlflow) (3.5.0)\n",
      "Requirement already satisfied: mlflow-tracing==3.5.0 in c:\\users\\deepa\\anaconda3\\lib\\site-packages (from mlflow) (3.5.0)\n",
      "Requirement already satisfied: Flask-CORS<7 in c:\\users\\deepa\\anaconda3\\lib\\site-packages (from mlflow) (6.0.1)\n",
      "Requirement already satisfied: Flask<4 in c:\\users\\deepa\\anaconda3\\lib\\site-packages (from mlflow) (3.0.2)\n",
      "Requirement already satisfied: alembic!=1.10.0,<2 in c:\\users\\deepa\\anaconda3\\lib\\site-packages (from mlflow) (1.13.3)\n",
      "Requirement already satisfied: cryptography<47,>=43.0.0 in c:\\users\\deepa\\anaconda3\\lib\\site-packages (from mlflow) (44.0.1)\n",
      "Requirement already satisfied: docker<8,>=4.0.0 in c:\\users\\deepa\\anaconda3\\lib\\site-packages (from mlflow) (7.1.0)\n",
      "Requirement already satisfied: fastmcp<3,>=2.0.0 in c:\\users\\deepa\\anaconda3\\lib\\site-packages (from mlflow) (2.12.5)\n",
      "Requirement already satisfied: graphene<4 in c:\\users\\deepa\\anaconda3\\lib\\site-packages (from mlflow) (3.4.3)\n",
      "Requirement already satisfied: matplotlib<4 in c:\\users\\deepa\\anaconda3\\lib\\site-packages (from mlflow) (3.10.0)\n",
      "Requirement already satisfied: numpy<3 in c:\\users\\deepa\\anaconda3\\lib\\site-packages (from mlflow) (2.2.6)\n",
      "Requirement already satisfied: pandas<3 in c:\\users\\deepa\\anaconda3\\lib\\site-packages (from mlflow) (2.2.3)\n",
      "Requirement already satisfied: pyarrow<22,>=4.0.0 in c:\\users\\deepa\\anaconda3\\lib\\site-packages (from mlflow) (19.0.0)\n",
      "Requirement already satisfied: scikit-learn<2 in c:\\users\\deepa\\anaconda3\\lib\\site-packages (from mlflow) (1.6.1)\n",
      "Requirement already satisfied: scipy<2 in c:\\users\\deepa\\anaconda3\\lib\\site-packages (from mlflow) (1.15.1)\n",
      "Requirement already satisfied: sqlalchemy<3,>=1.4.0 in c:\\users\\deepa\\anaconda3\\lib\\site-packages (from mlflow) (2.0.37)\n",
      "Requirement already satisfied: waitress<4 in c:\\users\\deepa\\anaconda3\\lib\\site-packages (from mlflow) (3.0.2)\n",
      "Requirement already satisfied: cachetools<7,>=5.0.0 in c:\\users\\deepa\\anaconda3\\lib\\site-packages (from mlflow-skinny==3.5.0->mlflow) (5.5.1)\n",
      "Requirement already satisfied: click<9,>=7.0 in c:\\users\\deepa\\anaconda3\\lib\\site-packages (from mlflow-skinny==3.5.0->mlflow) (8.1.7)\n",
      "Requirement already satisfied: cloudpickle<4 in c:\\users\\deepa\\anaconda3\\lib\\site-packages (from mlflow-skinny==3.5.0->mlflow) (3.0.0)\n",
      "Requirement already satisfied: databricks-sdk<1,>=0.20.0 in c:\\users\\deepa\\anaconda3\\lib\\site-packages (from mlflow-skinny==3.5.0->mlflow) (0.69.0)\n",
      "Requirement already satisfied: fastapi<1 in c:\\users\\deepa\\anaconda3\\lib\\site-packages (from mlflow-skinny==3.5.0->mlflow) (0.119.1)\n",
      "Requirement already satisfied: gitpython<4,>=3.1.9 in c:\\users\\deepa\\anaconda3\\lib\\site-packages (from mlflow-skinny==3.5.0->mlflow) (3.1.43)\n",
      "Requirement already satisfied: importlib_metadata!=4.7.0,<9,>=3.7.0 in c:\\users\\deepa\\anaconda3\\lib\\site-packages (from mlflow-skinny==3.5.0->mlflow) (8.5.0)\n",
      "Requirement already satisfied: opentelemetry-api<3,>=1.9.0 in c:\\users\\deepa\\anaconda3\\lib\\site-packages (from mlflow-skinny==3.5.0->mlflow) (1.38.0)\n",
      "Requirement already satisfied: opentelemetry-proto<3,>=1.9.0 in c:\\users\\deepa\\anaconda3\\lib\\site-packages (from mlflow-skinny==3.5.0->mlflow) (1.38.0)\n",
      "Requirement already satisfied: opentelemetry-sdk<3,>=1.9.0 in c:\\users\\deepa\\anaconda3\\lib\\site-packages (from mlflow-skinny==3.5.0->mlflow) (1.38.0)\n",
      "Requirement already satisfied: packaging<26 in c:\\users\\deepa\\anaconda3\\lib\\site-packages (from mlflow-skinny==3.5.0->mlflow) (24.2)\n",
      "Requirement already satisfied: protobuf<7,>=3.12.0 in c:\\users\\deepa\\anaconda3\\lib\\site-packages (from mlflow-skinny==3.5.0->mlflow) (6.32.0)\n",
      "Requirement already satisfied: pydantic<3,>=1.10.8 in c:\\users\\deepa\\anaconda3\\lib\\site-packages (from mlflow-skinny==3.5.0->mlflow) (2.12.3)\n",
      "Requirement already satisfied: python-dotenv<2,>=0.19.0 in c:\\users\\deepa\\anaconda3\\lib\\site-packages (from mlflow-skinny==3.5.0->mlflow) (1.1.1)\n",
      "Requirement already satisfied: pyyaml<7,>=5.1 in c:\\users\\deepa\\anaconda3\\lib\\site-packages (from mlflow-skinny==3.5.0->mlflow) (6.0.2)\n",
      "Requirement already satisfied: requests<3,>=2.17.3 in c:\\users\\deepa\\anaconda3\\lib\\site-packages (from mlflow-skinny==3.5.0->mlflow) (2.32.3)\n",
      "Requirement already satisfied: sqlparse<1,>=0.4.0 in c:\\users\\deepa\\anaconda3\\lib\\site-packages (from mlflow-skinny==3.5.0->mlflow) (0.5.3)\n",
      "Requirement already satisfied: typing-extensions<5,>=4.0.0 in c:\\users\\deepa\\anaconda3\\lib\\site-packages (from mlflow-skinny==3.5.0->mlflow) (4.15.0)\n",
      "Requirement already satisfied: uvicorn<1 in c:\\users\\deepa\\anaconda3\\lib\\site-packages (from mlflow-skinny==3.5.0->mlflow) (0.38.0)\n",
      "Requirement already satisfied: Mako in c:\\users\\deepa\\anaconda3\\lib\\site-packages (from alembic!=1.10.0,<2->mlflow) (1.2.3)\n",
      "Requirement already satisfied: cffi>=1.12 in c:\\users\\deepa\\anaconda3\\lib\\site-packages (from cryptography<47,>=43.0.0->mlflow) (1.17.1)\n",
      "Requirement already satisfied: pywin32>=304 in c:\\users\\deepa\\anaconda3\\lib\\site-packages (from docker<8,>=4.0.0->mlflow) (311)\n",
      "Requirement already satisfied: urllib3>=1.26.0 in c:\\users\\deepa\\anaconda3\\lib\\site-packages (from docker<8,>=4.0.0->mlflow) (2.3.0)\n",
      "Requirement already satisfied: authlib>=1.5.2 in c:\\users\\deepa\\anaconda3\\lib\\site-packages (from fastmcp<3,>=2.0.0->mlflow) (1.6.5)\n",
      "Requirement already satisfied: cyclopts>=3.0.0 in c:\\users\\deepa\\anaconda3\\lib\\site-packages (from fastmcp<3,>=2.0.0->mlflow) (4.0.0)\n",
      "Requirement already satisfied: exceptiongroup>=1.2.2 in c:\\users\\deepa\\anaconda3\\lib\\site-packages (from fastmcp<3,>=2.0.0->mlflow) (1.3.0)\n",
      "Requirement already satisfied: httpx>=0.28.1 in c:\\users\\deepa\\anaconda3\\lib\\site-packages (from fastmcp<3,>=2.0.0->mlflow) (0.28.1)\n",
      "Requirement already satisfied: mcp<1.17.0,>=1.12.4 in c:\\users\\deepa\\anaconda3\\lib\\site-packages (from fastmcp<3,>=2.0.0->mlflow) (1.16.0)\n",
      "Requirement already satisfied: openapi-core>=0.19.5 in c:\\users\\deepa\\anaconda3\\lib\\site-packages (from fastmcp<3,>=2.0.0->mlflow) (0.19.5)\n",
      "Requirement already satisfied: openapi-pydantic>=0.5.1 in c:\\users\\deepa\\anaconda3\\lib\\site-packages (from fastmcp<3,>=2.0.0->mlflow) (0.5.1)\n",
      "Requirement already satisfied: pyperclip>=1.9.0 in c:\\users\\deepa\\anaconda3\\lib\\site-packages (from fastmcp<3,>=2.0.0->mlflow) (1.11.0)\n",
      "Requirement already satisfied: rich>=13.9.4 in c:\\users\\deepa\\anaconda3\\lib\\site-packages (from fastmcp<3,>=2.0.0->mlflow) (13.9.4)\n",
      "Requirement already satisfied: Werkzeug>=3.0.0 in c:\\users\\deepa\\anaconda3\\lib\\site-packages (from Flask<4->mlflow) (3.0.1)\n",
      "Requirement already satisfied: Jinja2>=3.1.2 in c:\\users\\deepa\\anaconda3\\lib\\site-packages (from Flask<4->mlflow) (3.1.2)\n",
      "Requirement already satisfied: itsdangerous>=2.1.2 in c:\\users\\deepa\\anaconda3\\lib\\site-packages (from Flask<4->mlflow) (2.2.0)\n",
      "Requirement already satisfied: blinker>=1.6.2 in c:\\users\\deepa\\anaconda3\\lib\\site-packages (from Flask<4->mlflow) (1.9.0)\n",
      "Requirement already satisfied: graphql-core<3.3,>=3.1 in c:\\users\\deepa\\anaconda3\\lib\\site-packages (from graphene<4->mlflow) (3.2.6)\n",
      "Requirement already satisfied: graphql-relay<3.3,>=3.1 in c:\\users\\deepa\\anaconda3\\lib\\site-packages (from graphene<4->mlflow) (3.2.0)\n",
      "Requirement already satisfied: python-dateutil<3,>=2.7.0 in c:\\users\\deepa\\anaconda3\\lib\\site-packages (from graphene<4->mlflow) (2.9.0.post0)\n",
      "Requirement already satisfied: contourpy>=1.0.1 in c:\\users\\deepa\\anaconda3\\lib\\site-packages (from matplotlib<4->mlflow) (1.3.1)\n",
      "Requirement already satisfied: cycler>=0.10 in c:\\users\\deepa\\anaconda3\\lib\\site-packages (from matplotlib<4->mlflow) (0.11.0)\n",
      "Requirement already satisfied: fonttools>=4.22.0 in c:\\users\\deepa\\anaconda3\\lib\\site-packages (from matplotlib<4->mlflow) (4.55.3)\n",
      "Requirement already satisfied: kiwisolver>=1.3.1 in c:\\users\\deepa\\anaconda3\\lib\\site-packages (from matplotlib<4->mlflow) (1.4.8)\n",
      "Requirement already satisfied: pillow>=8 in c:\\users\\deepa\\anaconda3\\lib\\site-packages (from matplotlib<4->mlflow) (11.1.0)\n",
      "Requirement already satisfied: pyparsing>=2.3.1 in c:\\users\\deepa\\anaconda3\\lib\\site-packages (from matplotlib<4->mlflow) (3.2.0)\n",
      "Requirement already satisfied: pytz>=2020.1 in c:\\users\\deepa\\anaconda3\\lib\\site-packages (from pandas<3->mlflow) (2024.1)\n",
      "Requirement already satisfied: tzdata>=2022.7 in c:\\users\\deepa\\anaconda3\\lib\\site-packages (from pandas<3->mlflow) (2025.2)\n",
      "Requirement already satisfied: joblib>=1.2.0 in c:\\users\\deepa\\anaconda3\\lib\\site-packages (from scikit-learn<2->mlflow) (1.4.2)\n",
      "Requirement already satisfied: threadpoolctl>=3.1.0 in c:\\users\\deepa\\anaconda3\\lib\\site-packages (from scikit-learn<2->mlflow) (3.5.0)\n",
      "Requirement already satisfied: greenlet!=0.4.17 in c:\\users\\deepa\\anaconda3\\lib\\site-packages (from sqlalchemy<3,>=1.4.0->mlflow) (3.1.1)\n",
      "Requirement already satisfied: pycparser in c:\\users\\deepa\\anaconda3\\lib\\site-packages (from cffi>=1.12->cryptography<47,>=43.0.0->mlflow) (2.21)\n",
      "Requirement already satisfied: colorama in c:\\users\\deepa\\anaconda3\\lib\\site-packages (from click<9,>=7.0->mlflow-skinny==3.5.0->mlflow) (0.4.6)\n",
      "Requirement already satisfied: attrs>=23.1.0 in c:\\users\\deepa\\anaconda3\\lib\\site-packages (from cyclopts>=3.0.0->fastmcp<3,>=2.0.0->mlflow) (24.3.0)\n",
      "Requirement already satisfied: docstring-parser<4.0,>=0.15 in c:\\users\\deepa\\anaconda3\\lib\\site-packages (from cyclopts>=3.0.0->fastmcp<3,>=2.0.0->mlflow) (0.17.0)\n",
      "Requirement already satisfied: rich-rst<2.0.0,>=1.3.1 in c:\\users\\deepa\\anaconda3\\lib\\site-packages (from cyclopts>=3.0.0->fastmcp<3,>=2.0.0->mlflow) (1.3.2)\n",
      "Requirement already satisfied: google-auth~=2.0 in c:\\users\\deepa\\anaconda3\\lib\\site-packages (from databricks-sdk<1,>=0.20.0->mlflow-skinny==3.5.0->mlflow) (2.40.3)\n",
      "Requirement already satisfied: starlette<0.49.0,>=0.40.0 in c:\\users\\deepa\\anaconda3\\lib\\site-packages (from fastapi<1->mlflow-skinny==3.5.0->mlflow) (0.48.0)\n",
      "Requirement already satisfied: gitdb<5,>=4.0.1 in c:\\users\\deepa\\anaconda3\\lib\\site-packages (from gitpython<4,>=3.1.9->mlflow-skinny==3.5.0->mlflow) (4.0.7)\n",
      "Requirement already satisfied: anyio in c:\\users\\deepa\\anaconda3\\lib\\site-packages (from httpx>=0.28.1->fastmcp<3,>=2.0.0->mlflow) (4.11.0)\n",
      "Requirement already satisfied: certifi in c:\\users\\deepa\\anaconda3\\lib\\site-packages (from httpx>=0.28.1->fastmcp<3,>=2.0.0->mlflow) (2025.1.31)\n",
      "Requirement already satisfied: httpcore==1.* in c:\\users\\deepa\\anaconda3\\lib\\site-packages (from httpx>=0.28.1->fastmcp<3,>=2.0.0->mlflow) (1.0.2)\n",
      "Requirement already satisfied: idna in c:\\users\\deepa\\anaconda3\\lib\\site-packages (from httpx>=0.28.1->fastmcp<3,>=2.0.0->mlflow) (3.7)\n",
      "Requirement already satisfied: h11<0.15,>=0.13 in c:\\users\\deepa\\anaconda3\\lib\\site-packages (from httpcore==1.*->httpx>=0.28.1->fastmcp<3,>=2.0.0->mlflow) (0.14.0)\n",
      "Requirement already satisfied: zipp>=3.20 in c:\\users\\deepa\\anaconda3\\lib\\site-packages (from importlib_metadata!=4.7.0,<9,>=3.7.0->mlflow-skinny==3.5.0->mlflow) (3.21.0)\n",
      "Requirement already satisfied: MarkupSafe>=2.0 in c:\\users\\deepa\\anaconda3\\lib\\site-packages (from Jinja2>=3.1.2->Flask<4->mlflow) (3.0.2)\n",
      "Requirement already satisfied: httpx-sse>=0.4 in c:\\users\\deepa\\anaconda3\\lib\\site-packages (from mcp<1.17.0,>=1.12.4->fastmcp<3,>=2.0.0->mlflow) (0.4.1)\n",
      "Requirement already satisfied: jsonschema>=4.20.0 in c:\\users\\deepa\\anaconda3\\lib\\site-packages (from mcp<1.17.0,>=1.12.4->fastmcp<3,>=2.0.0->mlflow) (4.23.0)\n",
      "Requirement already satisfied: pydantic-settings>=2.5.2 in c:\\users\\deepa\\anaconda3\\lib\\site-packages (from mcp<1.17.0,>=1.12.4->fastmcp<3,>=2.0.0->mlflow) (2.6.1)\n",
      "Requirement already satisfied: python-multipart>=0.0.9 in c:\\users\\deepa\\anaconda3\\lib\\site-packages (from mcp<1.17.0,>=1.12.4->fastmcp<3,>=2.0.0->mlflow) (0.0.20)\n",
      "Requirement already satisfied: sse-starlette>=1.6.1 in c:\\users\\deepa\\anaconda3\\lib\\site-packages (from mcp<1.17.0,>=1.12.4->fastmcp<3,>=2.0.0->mlflow) (3.0.2)\n",
      "Requirement already satisfied: isodate in c:\\users\\deepa\\anaconda3\\lib\\site-packages (from openapi-core>=0.19.5->fastmcp<3,>=2.0.0->mlflow) (0.7.2)\n",
      "Requirement already satisfied: jsonschema-path<0.4.0,>=0.3.1 in c:\\users\\deepa\\anaconda3\\lib\\site-packages (from openapi-core>=0.19.5->fastmcp<3,>=2.0.0->mlflow) (0.3.4)\n",
      "Requirement already satisfied: more-itertools in c:\\users\\deepa\\anaconda3\\lib\\site-packages (from openapi-core>=0.19.5->fastmcp<3,>=2.0.0->mlflow) (10.3.0)\n",
      "Requirement already satisfied: openapi-schema-validator<0.7.0,>=0.6.0 in c:\\users\\deepa\\anaconda3\\lib\\site-packages (from openapi-core>=0.19.5->fastmcp<3,>=2.0.0->mlflow) (0.6.3)\n",
      "Requirement already satisfied: openapi-spec-validator<0.8.0,>=0.7.1 in c:\\users\\deepa\\anaconda3\\lib\\site-packages (from openapi-core>=0.19.5->fastmcp<3,>=2.0.0->mlflow) (0.7.2)\n",
      "Requirement already satisfied: parse in c:\\users\\deepa\\anaconda3\\lib\\site-packages (from openapi-core>=0.19.5->fastmcp<3,>=2.0.0->mlflow) (1.20.2)\n",
      "Requirement already satisfied: opentelemetry-semantic-conventions==0.59b0 in c:\\users\\deepa\\anaconda3\\lib\\site-packages (from opentelemetry-sdk<3,>=1.9.0->mlflow-skinny==3.5.0->mlflow) (0.59b0)\n",
      "Requirement already satisfied: annotated-types>=0.6.0 in c:\\users\\deepa\\anaconda3\\lib\\site-packages (from pydantic<3,>=1.10.8->mlflow-skinny==3.5.0->mlflow) (0.6.0)\n",
      "Requirement already satisfied: pydantic-core==2.41.4 in c:\\users\\deepa\\anaconda3\\lib\\site-packages (from pydantic<3,>=1.10.8->mlflow-skinny==3.5.0->mlflow) (2.41.4)\n",
      "Requirement already satisfied: typing-inspection>=0.4.2 in c:\\users\\deepa\\anaconda3\\lib\\site-packages (from pydantic<3,>=1.10.8->mlflow-skinny==3.5.0->mlflow) (0.4.2)\n",
      "Requirement already satisfied: email-validator>=2.0.0 in c:\\users\\deepa\\anaconda3\\lib\\site-packages (from pydantic[email]>=2.11.7->fastmcp<3,>=2.0.0->mlflow) (2.1.0.post1)\n",
      "Requirement already satisfied: six>=1.5 in c:\\users\\deepa\\anaconda3\\lib\\site-packages (from python-dateutil<3,>=2.7.0->graphene<4->mlflow) (1.16.0)\n",
      "Requirement already satisfied: charset-normalizer<4,>=2 in c:\\users\\deepa\\anaconda3\\lib\\site-packages (from requests<3,>=2.17.3->mlflow-skinny==3.5.0->mlflow) (3.3.2)\n",
      "Requirement already satisfied: markdown-it-py>=2.2.0 in c:\\users\\deepa\\anaconda3\\lib\\site-packages (from rich>=13.9.4->fastmcp<3,>=2.0.0->mlflow) (2.2.0)\n",
      "Requirement already satisfied: pygments<3.0.0,>=2.13.0 in c:\\users\\deepa\\anaconda3\\lib\\site-packages (from rich>=13.9.4->fastmcp<3,>=2.0.0->mlflow) (2.15.1)\n",
      "Requirement already satisfied: sniffio>=1.1 in c:\\users\\deepa\\anaconda3\\lib\\site-packages (from anyio->httpx>=0.28.1->fastmcp<3,>=2.0.0->mlflow) (1.3.0)\n",
      "Requirement already satisfied: dnspython>=2.0.0 in c:\\users\\deepa\\anaconda3\\lib\\site-packages (from email-validator>=2.0.0->pydantic[email]>=2.11.7->fastmcp<3,>=2.0.0->mlflow) (2.7.0)\n",
      "Requirement already satisfied: smmap<5,>=3.0.1 in c:\\users\\deepa\\anaconda3\\lib\\site-packages (from gitdb<5,>=4.0.1->gitpython<4,>=3.1.9->mlflow-skinny==3.5.0->mlflow) (4.0.0)\n",
      "Requirement already satisfied: pyasn1-modules>=0.2.1 in c:\\users\\deepa\\anaconda3\\lib\\site-packages (from google-auth~=2.0->databricks-sdk<1,>=0.20.0->mlflow-skinny==3.5.0->mlflow) (0.2.8)\n",
      "Requirement already satisfied: rsa<5,>=3.1.4 in c:\\users\\deepa\\anaconda3\\lib\\site-packages (from google-auth~=2.0->databricks-sdk<1,>=0.20.0->mlflow-skinny==3.5.0->mlflow) (4.9.1)\n",
      "Requirement already satisfied: jsonschema-specifications>=2023.03.6 in c:\\users\\deepa\\anaconda3\\lib\\site-packages (from jsonschema>=4.20.0->mcp<1.17.0,>=1.12.4->fastmcp<3,>=2.0.0->mlflow) (2023.7.1)\n",
      "Requirement already satisfied: referencing>=0.28.4 in c:\\users\\deepa\\anaconda3\\lib\\site-packages (from jsonschema>=4.20.0->mcp<1.17.0,>=1.12.4->fastmcp<3,>=2.0.0->mlflow) (0.30.2)\n",
      "Requirement already satisfied: rpds-py>=0.7.1 in c:\\users\\deepa\\anaconda3\\lib\\site-packages (from jsonschema>=4.20.0->mcp<1.17.0,>=1.12.4->fastmcp<3,>=2.0.0->mlflow) (0.22.3)\n",
      "Requirement already satisfied: pathable<0.5.0,>=0.4.1 in c:\\users\\deepa\\anaconda3\\lib\\site-packages (from jsonschema-path<0.4.0,>=0.3.1->openapi-core>=0.19.5->fastmcp<3,>=2.0.0->mlflow) (0.4.4)\n",
      "Requirement already satisfied: mdurl~=0.1 in c:\\users\\deepa\\anaconda3\\lib\\site-packages (from markdown-it-py>=2.2.0->rich>=13.9.4->fastmcp<3,>=2.0.0->mlflow) (0.1.0)\n",
      "Requirement already satisfied: rfc3339-validator in c:\\users\\deepa\\anaconda3\\lib\\site-packages (from openapi-schema-validator<0.7.0,>=0.6.0->openapi-core>=0.19.5->fastmcp<3,>=2.0.0->mlflow) (0.1.4)\n",
      "Requirement already satisfied: lazy-object-proxy<2.0.0,>=1.7.1 in c:\\users\\deepa\\anaconda3\\lib\\site-packages (from openapi-spec-validator<0.8.0,>=0.7.1->openapi-core>=0.19.5->fastmcp<3,>=2.0.0->mlflow) (1.10.0)\n",
      "Requirement already satisfied: docutils in c:\\users\\deepa\\anaconda3\\lib\\site-packages (from rich-rst<2.0.0,>=1.3.1->cyclopts>=3.0.0->fastmcp<3,>=2.0.0->mlflow) (0.18.1)\n",
      "Requirement already satisfied: pyasn1<0.5.0,>=0.4.6 in c:\\users\\deepa\\anaconda3\\lib\\site-packages (from pyasn1-modules>=0.2.1->google-auth~=2.0->databricks-sdk<1,>=0.20.0->mlflow-skinny==3.5.0->mlflow) (0.4.8)\n"
     ]
    }
   ],
   "source": [
    "!pip install mlflow"
   ]
  },
  {
   "cell_type": "code",
   "execution_count": 4,
   "id": "97a5094d",
   "metadata": {},
   "outputs": [],
   "source": [
    "import mlflow\n",
    "import mlflow.sklearn"
   ]
  },
  {
   "cell_type": "code",
   "execution_count": 5,
   "id": "9b8eafdc",
   "metadata": {},
   "outputs": [],
   "source": [
    "#import mlflow\n",
    "import pandas as pd\n",
    "#import mlflow.sklearn\n",
    "from sklearn.feature_extraction.text import CountVectorizer\n",
    "from sklearn.model_selection import train_test_split\n",
    "from sklearn.linear_model import LogisticRegression\n",
    "from sklearn.metrics import accuracy_score, precision_score, recall_score, f1_score\n",
    "import pandas as pd\n",
    "import re\n",
    "import string\n",
    "from nltk.corpus import stopwords\n",
    "from nltk.stem import WordNetLemmatizer\n",
    "import numpy as np"
   ]
  },
  {
   "cell_type": "code",
   "execution_count": 6,
   "id": "a32cfbb6",
   "metadata": {},
   "outputs": [
    {
     "name": "stderr",
     "output_type": "stream",
     "text": [
      "[nltk_data] Downloading package stopwords to\n",
      "[nltk_data]     C:\\Users\\deepa\\AppData\\Roaming\\nltk_data...\n",
      "[nltk_data]   Package stopwords is already up-to-date!\n",
      "[nltk_data] Downloading package wordnet to\n",
      "[nltk_data]     C:\\Users\\deepa\\AppData\\Roaming\\nltk_data...\n",
      "[nltk_data]   Package wordnet is already up-to-date!\n"
     ]
    },
    {
     "data": {
      "text/plain": [
       "True"
      ]
     },
     "execution_count": 6,
     "metadata": {},
     "output_type": "execute_result"
    }
   ],
   "source": [
    "import nltk\n",
    "nltk.download('stopwords')\n",
    "nltk.download('wordnet')\n"
   ]
  },
  {
   "cell_type": "code",
   "execution_count": 7,
   "id": "f4fcad39",
   "metadata": {},
   "outputs": [
    {
     "data": {
      "text/html": [
       "<div>\n",
       "<style scoped>\n",
       "    .dataframe tbody tr th:only-of-type {\n",
       "        vertical-align: middle;\n",
       "    }\n",
       "\n",
       "    .dataframe tbody tr th {\n",
       "        vertical-align: top;\n",
       "    }\n",
       "\n",
       "    .dataframe thead th {\n",
       "        text-align: right;\n",
       "    }\n",
       "</style>\n",
       "<table border=\"1\" class=\"dataframe\">\n",
       "  <thead>\n",
       "    <tr style=\"text-align: right;\">\n",
       "      <th></th>\n",
       "      <th>sentiment</th>\n",
       "      <th>content</th>\n",
       "    </tr>\n",
       "  </thead>\n",
       "  <tbody>\n",
       "    <tr>\n",
       "      <th>0</th>\n",
       "      <td>empty</td>\n",
       "      <td>@tiffanylue i know  i was listenin to bad habi...</td>\n",
       "    </tr>\n",
       "    <tr>\n",
       "      <th>1</th>\n",
       "      <td>sadness</td>\n",
       "      <td>Layin n bed with a headache  ughhhh...waitin o...</td>\n",
       "    </tr>\n",
       "    <tr>\n",
       "      <th>2</th>\n",
       "      <td>sadness</td>\n",
       "      <td>Funeral ceremony...gloomy friday...</td>\n",
       "    </tr>\n",
       "    <tr>\n",
       "      <th>3</th>\n",
       "      <td>enthusiasm</td>\n",
       "      <td>wants to hang out with friends SOON!</td>\n",
       "    </tr>\n",
       "    <tr>\n",
       "      <th>4</th>\n",
       "      <td>neutral</td>\n",
       "      <td>@dannycastillo We want to trade with someone w...</td>\n",
       "    </tr>\n",
       "  </tbody>\n",
       "</table>\n",
       "</div>"
      ],
      "text/plain": [
       "    sentiment                                            content\n",
       "0       empty  @tiffanylue i know  i was listenin to bad habi...\n",
       "1     sadness  Layin n bed with a headache  ughhhh...waitin o...\n",
       "2     sadness                Funeral ceremony...gloomy friday...\n",
       "3  enthusiasm               wants to hang out with friends SOON!\n",
       "4     neutral  @dannycastillo We want to trade with someone w..."
      ]
     },
     "execution_count": 7,
     "metadata": {},
     "output_type": "execute_result"
    }
   ],
   "source": [
    "df = pd.read_csv('https://raw.githubusercontent.com/campusx-official/jupyter-masterclass/main/tweet_emotions.csv').drop(columns=['tweet_id'])\n",
    "df.head()"
   ]
  },
  {
   "cell_type": "code",
   "execution_count": 8,
   "id": "3f7b6076",
   "metadata": {},
   "outputs": [
    {
     "name": "stderr",
     "output_type": "stream",
     "text": [
      "<>:32: SyntaxWarning: invalid escape sequence '\\s'\n",
      "<>:32: SyntaxWarning: invalid escape sequence '\\s'\n",
      "C:\\Users\\deepa\\AppData\\Local\\Temp\\ipykernel_25452\\93639238.py:32: SyntaxWarning: invalid escape sequence '\\s'\n",
      "  text = re.sub('\\s+', ' ', text).strip()\n"
     ]
    }
   ],
   "source": [
    "# data preprocessing\n",
    "\n",
    "# Define text preprocessing functions\n",
    "def lemmatization(text):\n",
    "    \"\"\"Lemmatize the text.\"\"\"\n",
    "    lemmatizer = WordNetLemmatizer()\n",
    "    text = text.split()\n",
    "    text = [lemmatizer.lemmatize(word) for word in text]\n",
    "    return \" \".join(text)\n",
    "\n",
    "def remove_stop_words(text):\n",
    "    \"\"\"Remove stop words from the text.\"\"\"\n",
    "    stop_words = set(stopwords.words(\"english\"))\n",
    "    text = [word for word in str(text).split() if word not in stop_words]\n",
    "    return \" \".join(text)\n",
    "\n",
    "def removing_numbers(text):\n",
    "    \"\"\"Remove numbers from the text.\"\"\"\n",
    "    text = ''.join([char for char in text if not char.isdigit()])\n",
    "    return text\n",
    "\n",
    "def lower_case(text):\n",
    "    \"\"\"Convert text to lower case.\"\"\"\n",
    "    text = text.split()\n",
    "    text = [word.lower() for word in text]\n",
    "    return \" \".join(text)\n",
    "\n",
    "def removing_punctuations(text):\n",
    "    \"\"\"Remove punctuations from the text.\"\"\"\n",
    "    text = re.sub('[%s]' % re.escape(string.punctuation), ' ', text)\n",
    "    text = text.replace('؛', \"\")\n",
    "    text = re.sub('\\s+', ' ', text).strip()\n",
    "    return text\n",
    "\n",
    "def removing_urls(text):\n",
    "    \"\"\"Remove URLs from the text.\"\"\"\n",
    "    url_pattern = re.compile(r'https?://\\S+|www\\.\\S+')\n",
    "    return url_pattern.sub(r'', text)\n",
    "\n",
    "def normalize_text(df):\n",
    "    \"\"\"Normalize the text data.\"\"\"\n",
    "    try:\n",
    "        df['content'] = df['content'].apply(lower_case)\n",
    "        df['content'] = df['content'].apply(remove_stop_words)\n",
    "        df['content'] = df['content'].apply(removing_numbers)\n",
    "        df['content'] = df['content'].apply(removing_punctuations)\n",
    "        df['content'] = df['content'].apply(removing_urls)\n",
    "        df['content'] = df['content'].apply(lemmatization)\n",
    "        return df\n",
    "    except Exception as e:\n",
    "        print(f'Error during text normalization: {e}')\n",
    "        raise"
   ]
  },
  {
   "cell_type": "code",
   "execution_count": 9,
   "id": "7d7ed39b",
   "metadata": {},
   "outputs": [
    {
     "data": {
      "text/html": [
       "<div>\n",
       "<style scoped>\n",
       "    .dataframe tbody tr th:only-of-type {\n",
       "        vertical-align: middle;\n",
       "    }\n",
       "\n",
       "    .dataframe tbody tr th {\n",
       "        vertical-align: top;\n",
       "    }\n",
       "\n",
       "    .dataframe thead th {\n",
       "        text-align: right;\n",
       "    }\n",
       "</style>\n",
       "<table border=\"1\" class=\"dataframe\">\n",
       "  <thead>\n",
       "    <tr style=\"text-align: right;\">\n",
       "      <th></th>\n",
       "      <th>sentiment</th>\n",
       "      <th>content</th>\n",
       "    </tr>\n",
       "  </thead>\n",
       "  <tbody>\n",
       "    <tr>\n",
       "      <th>0</th>\n",
       "      <td>empty</td>\n",
       "      <td>tiffanylue know listenin bad habit earlier sta...</td>\n",
       "    </tr>\n",
       "    <tr>\n",
       "      <th>1</th>\n",
       "      <td>sadness</td>\n",
       "      <td>layin n bed headache ughhhh waitin call</td>\n",
       "    </tr>\n",
       "    <tr>\n",
       "      <th>2</th>\n",
       "      <td>sadness</td>\n",
       "      <td>funeral ceremony gloomy friday</td>\n",
       "    </tr>\n",
       "    <tr>\n",
       "      <th>3</th>\n",
       "      <td>enthusiasm</td>\n",
       "      <td>want hang friend soon</td>\n",
       "    </tr>\n",
       "    <tr>\n",
       "      <th>4</th>\n",
       "      <td>neutral</td>\n",
       "      <td>dannycastillo want trade someone houston ticke...</td>\n",
       "    </tr>\n",
       "  </tbody>\n",
       "</table>\n",
       "</div>"
      ],
      "text/plain": [
       "    sentiment                                            content\n",
       "0       empty  tiffanylue know listenin bad habit earlier sta...\n",
       "1     sadness            layin n bed headache ughhhh waitin call\n",
       "2     sadness                     funeral ceremony gloomy friday\n",
       "3  enthusiasm                              want hang friend soon\n",
       "4     neutral  dannycastillo want trade someone houston ticke..."
      ]
     },
     "execution_count": 9,
     "metadata": {},
     "output_type": "execute_result"
    }
   ],
   "source": [
    "df = normalize_text(df)\n",
    "df.head()"
   ]
  },
  {
   "cell_type": "code",
   "execution_count": 10,
   "id": "6e72888b",
   "metadata": {},
   "outputs": [
    {
     "data": {
      "text/plain": [
       "sentiment\n",
       "neutral       8638\n",
       "worry         8459\n",
       "happiness     5209\n",
       "sadness       5165\n",
       "love          3842\n",
       "surprise      2187\n",
       "fun           1776\n",
       "relief        1526\n",
       "hate          1323\n",
       "empty          827\n",
       "enthusiasm     759\n",
       "boredom        179\n",
       "anger          110\n",
       "Name: count, dtype: int64"
      ]
     },
     "execution_count": 10,
     "metadata": {},
     "output_type": "execute_result"
    }
   ],
   "source": [
    "df['sentiment'].value_counts()\n"
   ]
  },
  {
   "cell_type": "code",
   "execution_count": 11,
   "id": "6bfc9804",
   "metadata": {},
   "outputs": [],
   "source": [
    "x = df['sentiment'].isin(['happiness','sadness'])\n",
    "df = df[x]"
   ]
  },
  {
   "cell_type": "code",
   "execution_count": 12,
   "id": "fdaaaf5e",
   "metadata": {},
   "outputs": [
    {
     "name": "stderr",
     "output_type": "stream",
     "text": [
      "C:\\Users\\deepa\\AppData\\Local\\Temp\\ipykernel_25452\\2928075754.py:1: FutureWarning: Downcasting behavior in `replace` is deprecated and will be removed in a future version. To retain the old behavior, explicitly call `result.infer_objects(copy=False)`. To opt-in to the future behavior, set `pd.set_option('future.no_silent_downcasting', True)`\n",
      "  df['sentiment'] = df['sentiment'].replace({'sadness':0, 'happiness':1})\n"
     ]
    },
    {
     "data": {
      "text/html": [
       "<div>\n",
       "<style scoped>\n",
       "    .dataframe tbody tr th:only-of-type {\n",
       "        vertical-align: middle;\n",
       "    }\n",
       "\n",
       "    .dataframe tbody tr th {\n",
       "        vertical-align: top;\n",
       "    }\n",
       "\n",
       "    .dataframe thead th {\n",
       "        text-align: right;\n",
       "    }\n",
       "</style>\n",
       "<table border=\"1\" class=\"dataframe\">\n",
       "  <thead>\n",
       "    <tr style=\"text-align: right;\">\n",
       "      <th></th>\n",
       "      <th>sentiment</th>\n",
       "      <th>content</th>\n",
       "    </tr>\n",
       "  </thead>\n",
       "  <tbody>\n",
       "    <tr>\n",
       "      <th>1</th>\n",
       "      <td>0</td>\n",
       "      <td>layin n bed headache ughhhh waitin call</td>\n",
       "    </tr>\n",
       "    <tr>\n",
       "      <th>2</th>\n",
       "      <td>0</td>\n",
       "      <td>funeral ceremony gloomy friday</td>\n",
       "    </tr>\n",
       "    <tr>\n",
       "      <th>6</th>\n",
       "      <td>0</td>\n",
       "      <td>sleep im not thinking old friend want married ...</td>\n",
       "    </tr>\n",
       "    <tr>\n",
       "      <th>8</th>\n",
       "      <td>0</td>\n",
       "      <td>charviray charlene love miss</td>\n",
       "    </tr>\n",
       "    <tr>\n",
       "      <th>9</th>\n",
       "      <td>0</td>\n",
       "      <td>kelcouch sorry least friday</td>\n",
       "    </tr>\n",
       "  </tbody>\n",
       "</table>\n",
       "</div>"
      ],
      "text/plain": [
       "   sentiment                                            content\n",
       "1          0            layin n bed headache ughhhh waitin call\n",
       "2          0                     funeral ceremony gloomy friday\n",
       "6          0  sleep im not thinking old friend want married ...\n",
       "8          0                       charviray charlene love miss\n",
       "9          0                        kelcouch sorry least friday"
      ]
     },
     "execution_count": 12,
     "metadata": {},
     "output_type": "execute_result"
    }
   ],
   "source": [
    "\n",
    "df['sentiment'] = df['sentiment'].replace({'sadness':0, 'happiness':1})\n",
    "df.head()"
   ]
  },
  {
   "cell_type": "code",
   "execution_count": 13,
   "id": "2023d21a",
   "metadata": {},
   "outputs": [],
   "source": [
    "vectorizer = CountVectorizer(max_features=1000)\n",
    "X = vectorizer.fit_transform(df['content'])\n",
    "y = df['sentiment']"
   ]
  },
  {
   "cell_type": "code",
   "execution_count": 14,
   "id": "4be16e03",
   "metadata": {},
   "outputs": [],
   "source": [
    "X_train, X_test, y_train, y_test = train_test_split(X, y, test_size=0.2, random_state=42)\n"
   ]
  },
  {
   "cell_type": "code",
   "execution_count": 15,
   "id": "5f89504f",
   "metadata": {},
   "outputs": [
    {
     "data": {
      "text/html": [
       "<pre style=\"white-space:pre;overflow-x:auto;line-height:normal;font-family:Menlo,'DejaVu Sans Mono',consolas,'Courier New',monospace\">Accessing as deepankargupta856\n",
       "</pre>\n"
      ],
      "text/plain": [
       "Accessing as deepankargupta856\n"
      ]
     },
     "metadata": {},
     "output_type": "display_data"
    },
    {
     "data": {
      "text/html": [
       "<pre style=\"white-space:pre;overflow-x:auto;line-height:normal;font-family:Menlo,'DejaVu Sans Mono',consolas,'Courier New',monospace\">Initialized MLflow to track repo <span style=\"color: #008000; text-decoration-color: #008000\">\"deepankargupta856/mlops-mini-proj\"</span>\n",
       "</pre>\n"
      ],
      "text/plain": [
       "Initialized MLflow to track repo \u001b[32m\"deepankargupta856/mlops-mini-proj\"\u001b[0m\n"
      ]
     },
     "metadata": {},
     "output_type": "display_data"
    },
    {
     "data": {
      "text/html": [
       "<pre style=\"white-space:pre;overflow-x:auto;line-height:normal;font-family:Menlo,'DejaVu Sans Mono',consolas,'Courier New',monospace\">Repository deepankargupta856/mlops-mini-proj initialized!\n",
       "</pre>\n"
      ],
      "text/plain": [
       "Repository deepankargupta856/mlops-mini-proj initialized!\n"
      ]
     },
     "metadata": {},
     "output_type": "display_data"
    },
    {
     "data": {
      "text/plain": [
       "<Experiment: artifact_location='mlflow-artifacts:/9277527794184bfca97a1896b958e24f', creation_time=1761127587704, experiment_id='1', last_update_time=1761127587704, lifecycle_stage='active', name='Logistic Regression Baseline', tags={}>"
      ]
     },
     "execution_count": 15,
     "metadata": {},
     "output_type": "execute_result"
    }
   ],
   "source": [
    "import dagshub\n",
    "\n",
    "dagshub.init(repo_owner='deepankargupta856', repo_name='mlops-mini-proj', mlflow=True)\n",
    "mlflow.set_tracking_uri('https://dagshub.com/deepankargupta856/mlops-mini-proj.mlflow')\n",
    "\n",
    "mlflow.set_experiment(\"Logistic Regression Baseline\")"
   ]
  },
  {
   "cell_type": "code",
   "execution_count": 16,
   "id": "54c79629",
   "metadata": {},
   "outputs": [
    {
     "name": "stdout",
     "output_type": "stream",
     "text": [
      "Accuracy: 0.776867469879518\n",
      "Precision: 0.7690058479532164\n",
      "Recall: 0.7773399014778325\n",
      "F1 Score: 0.7731504164625184\n",
      "🏃 View run amusing-sheep-846 at: https://dagshub.com/deepankargupta856/mlops-mini-proj.mlflow/#/experiments/1/runs/65665f3699be420db897e0eca57ce424\n",
      "🧪 View experiment at: https://dagshub.com/deepankargupta856/mlops-mini-proj.mlflow/#/experiments/1\n"
     ]
    }
   ],
   "source": [
    "with mlflow.start_run():\n",
    "    \n",
    "    # Log preprocessing parameters\n",
    "    mlflow.log_param(\"vectorizer\", \"Bag of Words\")\n",
    "    mlflow.log_param(\"num_features\", 1000)\n",
    "    mlflow.log_param(\"test_size\", 0.2)\n",
    "    \n",
    "    # Model building and training\n",
    "    model = LogisticRegression()\n",
    "    model.fit(X_train, y_train)\n",
    "    \n",
    "    # Log model parameters\n",
    "    mlflow.log_param(\"model\", \"Logistic Regression\")\n",
    "    \n",
    "    # Model evaluation\n",
    "    y_pred = model.predict(X_test)\n",
    "    accuracy = accuracy_score(y_test, y_pred)\n",
    "    precision = precision_score(y_test, y_pred)\n",
    "    recall = recall_score(y_test, y_pred)\n",
    "    f1 = f1_score(y_test, y_pred)\n",
    "    \n",
    "    # Log evaluation metrics\n",
    "    mlflow.log_metric(\"accuracy\", accuracy)\n",
    "    mlflow.log_metric(\"precision\", precision)\n",
    "    mlflow.log_metric(\"recall\", recall)\n",
    "    mlflow.log_metric(\"f1_score\", f1)\n",
    "    \n",
    "    # Log model\n",
    "    # mlflow.sklearn.log_model(model, \"model\")\n",
    "\n",
    "    # Save and log the notebook\n",
    "    #import os\n",
    "    #notebook_path = \"exp1_baseline.ipynb\"\n",
    "    #os.system(f\"jupyter nbconvert --to notebook --execute --inplace {notebook_path}\")\n",
    "    #mlflow.log_artifact(notebook_path)\n",
    "    \n",
    "    # Print the results for verification\n",
    "    print(f\"Accuracy: {accuracy}\")\n",
    "    print(f\"Precision: {precision}\")\n",
    "    print(f\"Recall: {recall}\")\n",
    "    print(f\"F1 Score: {f1}\")"
   ]
  },
  {
   "cell_type": "code",
   "execution_count": null,
   "id": "b78d4985",
   "metadata": {},
   "outputs": [],
   "source": []
  }
 ],
 "metadata": {
  "kernelspec": {
   "display_name": "web_scraping",
   "language": "python",
   "name": "web_scraping"
  },
  "language_info": {
   "codemirror_mode": {
    "name": "ipython",
    "version": 3
   },
   "file_extension": ".py",
   "mimetype": "text/x-python",
   "name": "python",
   "nbconvert_exporter": "python",
   "pygments_lexer": "ipython3",
   "version": "3.12.7"
  }
 },
 "nbformat": 4,
 "nbformat_minor": 5
}
